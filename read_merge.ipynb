{
 "cells": [
  {
   "cell_type": "code",
   "execution_count": 1,
   "metadata": {},
   "outputs": [],
   "source": [
    "import pandas as pd\n",
    "\n",
    "# データの読み込み。\n",
    "train = pd.read_csv('read_merge_csv/train.csv')\n",
    "train_add = pd.read_csv('read_merge_csv/train_add.csv')\n",
    "test = pd.read_csv('read_merge_csv/test.csv')\n",
    "condition = pd.read_csv('read_merge_csv/condition.csv')\n",
    "condition_add = pd.read_csv('read_merge_csv/condition_add.csv')\n",
    "stadium = pd.read_csv('read_merge_csv/stadium.csv')\n",
    "sample = pd.read_csv('read_merge_csv/sample_submit.csv')"
   ]
  },
  {
   "cell_type": "code",
   "execution_count": 2,
   "metadata": {},
   "outputs": [],
   "source": [
    "# 追加データを追加。\n",
    "train_tmp = pd.concat([train, train_add], axis = 0)\n",
    "condition_tmp = pd.concat([condition, condition_add], axis =0)\n",
    "\n",
    "#結合データの行数が正しいか検証。\n",
    "assert len(train_tmp) == len(train) + len(train_add)\n",
    "assert len(condition_tmp) == len(condition) + len(condition_add)"
   ]
  },
  {
   "cell_type": "code",
   "execution_count": 3,
   "metadata": {},
   "outputs": [],
   "source": [
    "# trainとconditionをIDを基準に結合。\n",
    "tmp1 = pd.merge(train_tmp, condition_tmp, how = 'inner', on = 'id')\n",
    "tmp2 = pd.merge(test, condition, how = 'inner', on = 'id')\n",
    "\n",
    "#結合データの列数が正しいか検証。\n",
    "assert len(tmp1.columns) == len(train_tmp.columns) + len(condition_tmp.drop('id', axis = 1).columns)\n",
    "assert len(tmp2.columns) == len(test.columns) + len(condition.drop('id', axis = 1).columns) "
   ]
  },
  {
   "cell_type": "code",
   "execution_count": 4,
   "metadata": {},
   "outputs": [],
   "source": [
    "# stadiumを結合。\n",
    "train_new = pd.merge(tmp1, stadium, left_on = 'stadium', right_on = 'name')\n",
    "test_new = pd.merge(tmp2, stadium, left_on = 'stadium', right_on= 'name')\n",
    "\n",
    "#結合データの列数が正しいか検証。\n",
    "assert len(train_new.columns) == len(tmp1.columns) + len(stadium.columns)\n",
    "assert len(test_new.columns) == len(tmp2.columns) + len(stadium.columns) \n",
    "# キーの欠損確認。"
   ]
  },
  {
   "cell_type": "code",
   "execution_count": 5,
   "metadata": {},
   "outputs": [],
   "source": [
    "# データをcsv形式に加工。\n",
    "train_new.to_csv('read_merge_csv/train_new.csv', sep=',', header=True, index=False)\n",
    "test_new.to_csv('read_merge_csv/test_new.csv', sep=',', header=True, index=False)"
   ]
  }
 ],
 "metadata": {
  "kernelspec": {
   "display_name": "Python 3",
   "language": "python",
   "name": "python3"
  },
  "language_info": {
   "codemirror_mode": {
    "name": "ipython",
    "version": 3
   },
   "file_extension": ".py",
   "mimetype": "text/x-python",
   "name": "python",
   "nbconvert_exporter": "python",
   "pygments_lexer": "ipython3",
   "version": "3.8.2"
  }
 },
 "nbformat": 4,
 "nbformat_minor": 4
}
