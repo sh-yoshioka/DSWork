{
 "cells": [
  {
   "cell_type": "code",
   "execution_count": 1,
   "metadata": {},
   "outputs": [],
   "source": [
    "import pandas as pd\n",
    "import numpy as np\n",
    "from sklearn.linear_model import LinearRegression\n",
    "from sklearn.metrics import roc_auc_score\n",
    "from sklearn.metrics import mean_squared_error\n",
    "import statsmodels.api as sm\n"
   ]
  },
  {
   "cell_type": "code",
   "execution_count": 2,
   "metadata": {},
   "outputs": [],
   "source": [
    "# csvデータの読み込み。\n",
    "train = pd.read_csv('read_merge_csv/train_new.csv')\n",
    "test = pd.read_csv('read_merge_csv/test_new.csv')\n",
    "train['week'] = train['gameday'].str[-2].replace(('月','火','水','木','金'), '平日')\n",
    "test['week'] = test['gameday'].str[-2].replace(('月','火','水','木','金'), '平日')\n",
    "\n",
    "train['match'] = train['match'].str.split('第', expand = True)[1].str.split('節',expand=True)[0].astype('int')\n",
    "test['match'] = test['match'].str.split('第', expand = True)[1].str.split('節',expand=True)[0].astype('int')\n",
    "\n",
    "train['gameday'] = train['gameday'].str.split('/', expand = True)[0].astype('int')\n",
    "test['gameday'] = test['gameday'].str.split('/', expand = True)[0].astype('int')\n",
    "\n",
    "train['time'] = train['time'].str.split(':', expand = True)[0].astype('int')\n",
    "test['time'] = test['time'].str.split(':', expand = True)[0].astype('int')"
   ]
  },
  {
   "cell_type": "code",
   "execution_count": 3,
   "metadata": {},
   "outputs": [],
   "source": [
    "# 使用変数の作成。\n",
    "train['stage'] = pd.factorize(train['stage'])[0]\n",
    "test['stage'] = pd.factorize(test['stage'])[0]\n",
    "\n",
    "train['match'] = pd.factorize(train['match'])[0]\n",
    "test['match'] = pd.factorize(test['match'])[0]\n",
    "\n",
    "train['home'] = pd.factorize(train['home'])[0]\n",
    "test['home'] = pd.factorize(test['home'])[0]\n",
    "\n",
    "train['stadium'] = pd.factorize(train['stadium'])[0]\n",
    "test['stadium'] = pd.factorize(test['stadium'])[0]\n",
    "\n",
    "train['referee'] = pd.factorize(train['referee'])[0]\n",
    "test['referee'] = pd.factorize(test['referee'])[0]\n",
    "\n",
    "train['referee'] = pd.factorize(train['referee'])[0]\n",
    "test['referee'] = pd.factorize(test['referee'])[0]\n",
    "\n",
    "train['away'] = pd.factorize(train['away'])[0]\n",
    "test['away'] = pd.factorize(test['away'])[0]\n",
    "\n",
    "train['week'] = pd.factorize(train['week'])[0]\n",
    "test['week'] = pd.factorize(test['week'])[0]\n",
    "\n",
    "train['address'] = pd.factorize(train['address'])[0]\n",
    "test['address'] = pd.factorize(test['address'])[0]\n",
    "\n",
    "# 変数選択。\n",
    "lm_train = train[['y','capa', 'stage', 'stadium', 'match', 'week', 'home', 'away', 'referee', 'address']]\n",
    "lm_test = test[['capa','stage', 'stadium', 'match', 'week', 'home', 'away', 'referee', 'address']]"
   ]
  },
  {
   "cell_type": "code",
   "execution_count": 4,
   "metadata": {},
   "outputs": [
    {
     "name": "stdout",
     "output_type": "stream",
     "text": [
      "6846.423590712795\n",
      "7288.949003518723\n",
      "3605.533817859825\n",
      "3056.6003460829097\n",
      "3125.8265670747096\n"
     ]
    }
   ],
   "source": [
    "# クロスバリデーション\n",
    "from sklearn.model_selection import KFold\n",
    "\n",
    "n_split = 5\n",
    "cv = KFold(n_split)\n",
    "sub_pred = np.zeros(len(lm_test))\n",
    "for train_idx, valid_idx in cv.split(X=lm_train):\n",
    "    \n",
    "    train_x = lm_train.drop('y', axis=1).iloc[train_idx]\n",
    "    valid_x = lm_train.drop('y', axis=1).iloc[valid_idx]\n",
    "    train_y = lm_train['y'].iloc[train_idx]\n",
    "    valid_y = lm_train['y'].iloc[valid_idx]\n",
    "    \n",
    "    model = LinearRegression().fit(train_x, train_y)\n",
    "    \n",
    "    # RMSEの算出。\n",
    "    pred_valid = model.predict(valid_x)\n",
    "    print(np.sqrt(mean_squared_error(valid_y, pred_valid)))\n",
    "    \n",
    "    sub_pred += model.predict(lm_test)\n",
    "sub_pred /= n_split"
   ]
  },
  {
   "cell_type": "code",
   "execution_count": 7,
   "metadata": {},
   "outputs": [],
   "source": [
    "# データをcsv形式に加工。\n",
    "out = pd.DataFrame({'id':test['id'], 'y':sub_pred})\n",
    "\n",
    "# idでソート。\n",
    "out_sorted = out.sort_values('id')\n",
    "\n",
    "out_sorted.to_csv('read_merge_csv/submit_0628_1_lm.csv', sep=',', header=False, index=False)"
   ]
  },
  {
   "cell_type": "code",
   "execution_count": 8,
   "metadata": {},
   "outputs": [],
   "source": [
    "# csvのフォーマット確認。\n",
    "#出力ファイルと投稿用のサンプルファイルを読込。\n",
    "sample = pd.read_csv(filepath_or_buffer=\"read_merge_csv/sample_submit.csv\")\n",
    "submit = pd.read_csv(filepath_or_buffer=\"read_merge_csv/submit_0628_1_lm.csv\")\n",
    "\n",
    "#インデックスを比較。\n",
    "assert len(sample.index.values) == len(submit.index.values)\n",
    "\n",
    "# 行番号の検証。\n",
    "assert (sample.index.values == submit.index.values).all()\n",
    "\n",
    "#列名の検証。\n",
    "assert sample.columns[0] == submit.columns[0]\n",
    "assert 'y' != submit.columns[0]"
   ]
  },
  {
   "cell_type": "code",
   "execution_count": null,
   "metadata": {},
   "outputs": [],
   "source": []
  }
 ],
 "metadata": {
  "kernelspec": {
   "display_name": "Python 3",
   "language": "python",
   "name": "python3"
  },
  "language_info": {
   "codemirror_mode": {
    "name": "ipython",
    "version": 3
   },
   "file_extension": ".py",
   "mimetype": "text/x-python",
   "name": "python",
   "nbconvert_exporter": "python",
   "pygments_lexer": "ipython3",
   "version": "3.8.2"
  }
 },
 "nbformat": 4,
 "nbformat_minor": 4
}
