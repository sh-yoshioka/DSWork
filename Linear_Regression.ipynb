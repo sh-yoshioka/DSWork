{
 "cells": [
  {
   "cell_type": "code",
   "execution_count": 1,
   "metadata": {},
   "outputs": [],
   "source": [
    "import pandas as pd\n",
    "import numpy as np\n",
    "from sklearn.linear_model import LinearRegression\n",
    "from sklearn.metrics import roc_auc_score"
   ]
  },
  {
   "cell_type": "code",
   "execution_count": 2,
   "metadata": {},
   "outputs": [],
   "source": [
    "# csvデータの読み込み。\n",
    "train = pd.read_csv('read_merge_csv/train_new.csv')\n",
    "test = pd.read_csv('read_merge_csv/test_new.csv')"
   ]
  },
  {
   "cell_type": "code",
   "execution_count": 3,
   "metadata": {},
   "outputs": [],
   "source": [
    "# 使用変数の作成。\n",
    "# 変数選択。\n",
    "lm_train = train[['y', 'temperature', 'capa']]\n",
    "lm_test = test[['temperature', 'capa']]"
   ]
  },
  {
   "cell_type": "code",
   "execution_count": 4,
   "metadata": {},
   "outputs": [],
   "source": [
    "# 重回帰分析\n",
    "model = LinearRegression().fit(lm_train.drop(['y'], axis = 1), lm_train['y'])"
   ]
  },
  {
   "cell_type": "code",
   "execution_count": 5,
   "metadata": {},
   "outputs": [],
   "source": [
    "# testに当てはめ。\n",
    "pred_test = model.predict(lm_test)"
   ]
  },
  {
   "cell_type": "code",
   "execution_count": 6,
   "metadata": {},
   "outputs": [],
   "source": [
    "# データをcsv形式に加工。\n",
    "out = pd.DataFrame({'id':test['id'], 'y':pred_test})\n",
    "\n",
    "# idでソート。\n",
    "out_sorted = out.sort_values('id')\n",
    "\n",
    "out_sorted.to_csv('read_merge_csv/submit_0628_1_lm.csv', sep=',', header=False, index=False)"
   ]
  },
  {
   "cell_type": "code",
   "execution_count": 7,
   "metadata": {},
   "outputs": [],
   "source": [
    "# csvのフォーマット確認。\n",
    "#出力ファイルと投稿用のサンプルファイルを読込。\n",
    "sample = pd.read_csv(filepath_or_buffer=\"read_merge_csv/sample_submit.csv\")\n",
    "submit = pd.read_csv(filepath_or_buffer=\"read_merge_csv/submit_0628_1_lm.csv\")\n",
    "\n",
    "#インデックスを比較。\n",
    "assert len(sample.index.values) == len(submit.index.values)\n",
    "\n",
    "# 行番号の検証。\n",
    "assert (sample.index.values == submit.index.values).all()\n",
    "\n",
    "#列名の検証。\n",
    "assert sample.columns[0] == submit.columns[0]\n",
    "assert 'y' != submit.columns[0]"
   ]
  }
 ],
 "metadata": {
  "kernelspec": {
   "display_name": "Python 3",
   "language": "python",
   "name": "python3"
  },
  "language_info": {
   "codemirror_mode": {
    "name": "ipython",
    "version": 3
   },
   "file_extension": ".py",
   "mimetype": "text/x-python",
   "name": "python",
   "nbconvert_exporter": "python",
   "pygments_lexer": "ipython3",
   "version": "3.8.2"
  }
 },
 "nbformat": 4,
 "nbformat_minor": 4
}
